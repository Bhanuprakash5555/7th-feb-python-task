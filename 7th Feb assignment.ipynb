{
 "cells": [
  {
   "cell_type": "code",
   "execution_count": null,
   "id": "17305b0c-989a-4055-9a34-388c1d8caaf0",
   "metadata": {},
   "outputs": [],
   "source": [
    "\"\"\"Q1. You are writing code for a company. The requirement of the company is that you create a python \n",
    "function that will check whether the password entered by the user is correct or not. The function should \n",
    "take the password as input and return the string “Valid Password” if the entered password follows the \n",
    "below-given password guidelines else it should return “Invalid Password”.\n",
    "\n",
    "\n",
    "Note: 1. The Password should contain at least two uppercase letters and at least two lowercase letters.\n",
    "\n",
    "2. The Password should contain at least a number and three special characters.\n",
    "\n",
    "3. The length of the password should be 10 characters long.\"\"\""
   ]
  },
  {
   "cell_type": "code",
   "execution_count": null,
   "id": "e8a13db9-946d-4479-a108-b184c6fe589b",
   "metadata": {},
   "outputs": [],
   "source": [
    "1ans)"
   ]
  },
  {
   "cell_type": "code",
   "execution_count": 8,
   "id": "39ac325c-308a-480a-91df-cf9405640dde",
   "metadata": {},
   "outputs": [],
   "source": [
    "def check_password(password):\n",
    "    uppercase_count = 0\n",
    "    lowercase_count = 0\n",
    "    number_count = 0\n",
    "    special_count = 0\n",
    "    \n",
    "    # Count the number of uppercase, lowercase, number, and special characters in the password\n",
    "    for char in password:\n",
    "        if char.isupper():\n",
    "            uppercase_count += 1\n",
    "        elif char.islower():\n",
    "            lowercase_count += 1\n",
    "        elif char.isdigit():\n",
    "            number_count += 1\n",
    "        elif char in \"!@#$%^&*()_+-={}[]|\\:;'<>,.?/\":\n",
    "            special_count += 1\n",
    "    \n",
    "    # Check if the password meets all the requirements\n",
    "    if len(password) < 10:\n",
    "        return \"Invalid Password\"\n",
    "    elif uppercase_count < 2 or lowercase_count < 2:\n",
    "        return \"Invalid Password\"\n",
    "    elif number_count < 1 or special_count < 3:\n",
    "        return \"Invalid Password\"\n",
    "    else:\n",
    "        return \"Valid Password\""
   ]
  },
  {
   "cell_type": "code",
   "execution_count": 14,
   "id": "249c1653-bd05-4d98-a926-2f97ee61e5f1",
   "metadata": {},
   "outputs": [],
   "source": [
    "a=\"Bh@nuPr@k@$h1234\""
   ]
  },
  {
   "cell_type": "code",
   "execution_count": 15,
   "id": "80074ecb-6711-4b79-8e29-c2a61d81c656",
   "metadata": {},
   "outputs": [
    {
     "data": {
      "text/plain": [
       "'Valid Password'"
      ]
     },
     "execution_count": 15,
     "metadata": {},
     "output_type": "execute_result"
    }
   ],
   "source": [
    "check_password(a)"
   ]
  },
  {
   "cell_type": "code",
   "execution_count": null,
   "id": "c4c405f0-de9e-4d10-8a36-a0b5cf9d0e35",
   "metadata": {},
   "outputs": [],
   "source": [
    "\"\"\"Q2. Solve the below-given questions using at least one of the following: \n",
    "\n",
    "1. Lambda function\n",
    "2. Filter function\n",
    "3. Map function\n",
    "4. List Comprehension\n",
    "* Check if the string starts with a particular letterY\n",
    "* Check if the string is numericY\n",
    "* Sort a list of tuples having fruit names and their quantity. [(\"mango\",99),(\"orange\",80), (\"grapes\", 1000)-\n",
    "* Find the squares of numbers from 1 to 10Y\n",
    "* Find the cube root of numbers from 1 to 10Y\n",
    "* Check if a given number is evenY\n",
    "* Filter odd numbers from the given list.\n",
    "\n",
    " [1,2,3,4,5,6,7,8,9,10-\n",
    "* Sort a list of integers into positive and negative integers lists.\n",
    "\n",
    " [1,2,3,4,5,6,-1,-2,-3,-4,-5,0]\"\"\""
   ]
  },
  {
   "cell_type": "code",
   "execution_count": null,
   "id": "dd22ddbe-fa37-476d-a673-6abccbc9b0c4",
   "metadata": {},
   "outputs": [],
   "source": [
    "2ans)"
   ]
  },
  {
   "cell_type": "code",
   "execution_count": 16,
   "id": "8c169f78-941c-4188-aeea-b010abe1cda2",
   "metadata": {},
   "outputs": [
    {
     "name": "stdout",
     "output_type": "stream",
     "text": [
      "['apple']\n"
     ]
    }
   ],
   "source": [
    "strings = ['apple', 'banana', 'orange', 'peach']\n",
    "letter = 'a'\n",
    "result = list(filter(lambda x: x.startswith(letter), strings))\n",
    "print(result) # Output: ['apple']"
   ]
  },
  {
   "cell_type": "code",
   "execution_count": 17,
   "id": "ced4e316-2560-42a8-b0c9-7e5eed9657e3",
   "metadata": {},
   "outputs": [
    {
     "name": "stdout",
     "output_type": "stream",
     "text": [
      "['apple']\n"
     ]
    }
   ],
   "source": [
    "strings = ['apple', 'banana', 'orange', 'peach']\n",
    "letter = 'a'\n",
    "result = [x for x in strings if x.startswith(letter)]\n",
    "print(result) # Output: ['apple']"
   ]
  },
  {
   "cell_type": "code",
   "execution_count": 18,
   "id": "dc83fbd6-234e-4c03-a349-1da30b2d427e",
   "metadata": {},
   "outputs": [
    {
     "name": "stdout",
     "output_type": "stream",
     "text": [
      "['123']\n"
     ]
    }
   ],
   "source": [
    "strings = ['apple', 'banana', '123', 'peach']\n",
    "result = list(filter(lambda x: x.isnumeric(), strings))\n",
    "print(result) # Output: ['123']"
   ]
  },
  {
   "cell_type": "code",
   "execution_count": 19,
   "id": "4ccdac53-b454-44f7-a107-3d1495646814",
   "metadata": {},
   "outputs": [
    {
     "name": "stdout",
     "output_type": "stream",
     "text": [
      "['123']\n"
     ]
    }
   ],
   "source": [
    "strings = ['apple', 'banana', '123', 'peach']\n",
    "result = [x for x in strings if x.isnumeric()]\n",
    "print(result) # Output: ['123']"
   ]
  },
  {
   "cell_type": "code",
   "execution_count": 20,
   "id": "03bfbbac-8f0f-4abc-93e1-797e9a1b5c1f",
   "metadata": {},
   "outputs": [
    {
     "name": "stdout",
     "output_type": "stream",
     "text": [
      "[('orange', 80), ('mango', 99), ('grapes', 1000)]\n"
     ]
    }
   ],
   "source": [
    "fruits = [(\"mango\",99),(\"orange\",80),(\"grapes\",1000)]\n",
    "result = sorted(fruits, key=lambda x: x[1])\n",
    "print(result) # Output: [('orange', 80), ('mango', 99), ('grapes', 1000)]"
   ]
  },
  {
   "cell_type": "code",
   "execution_count": 21,
   "id": "5e21dc8f-1708-4741-a6d6-71a795009ce6",
   "metadata": {},
   "outputs": [
    {
     "name": "stdout",
     "output_type": "stream",
     "text": [
      "[('orange', 80), ('mango', 99), ('grapes', 1000)]\n"
     ]
    }
   ],
   "source": [
    "fruits = [(\"mango\",99),(\"orange\",80),(\"grapes\",1000)]\n",
    "result = sorted(fruits, key=lambda x: x[1])\n",
    "print(result) # Output: [('orange', 80), ('mango', 99), ('grapes', 1000)]"
   ]
  },
  {
   "cell_type": "code",
   "execution_count": 22,
   "id": "7ec804a6-170d-407e-b0e7-4c666c6a7d32",
   "metadata": {},
   "outputs": [
    {
     "name": "stdout",
     "output_type": "stream",
     "text": [
      "[1, 4, 9, 16, 25, 36, 49, 64, 81, 100]\n"
     ]
    }
   ],
   "source": [
    "numbers = range(1, 11)\n",
    "squares = list(map(lambda x: x**2, numbers))\n",
    "print(squares) # Output: [1, 4, 9, 16, 25, 36, 49, 64, 81, 100]"
   ]
  },
  {
   "cell_type": "code",
   "execution_count": 23,
   "id": "0980c1c1-2902-46d5-b117-89baf0a536dc",
   "metadata": {},
   "outputs": [
    {
     "name": "stdout",
     "output_type": "stream",
     "text": [
      "[1, 4, 9, 16, 25, 36, 49, 64, 81, 100]\n"
     ]
    }
   ],
   "source": [
    "numbers = range(1, 11)\n",
    "squares = [x**2 for x in numbers]\n",
    "print(squares) # Output: [1, 4, 9, 16, 25, 36, 49, 64, 81, 100]"
   ]
  },
  {
   "cell_type": "code",
   "execution_count": 24,
   "id": "1ed6d2e8-a3a8-4be0-b459-8e8b01d5803b",
   "metadata": {},
   "outputs": [
    {
     "name": "stdout",
     "output_type": "stream",
     "text": [
      "[1.0, 1.2599210498948732, 1.4422495703074083, 1.5874010519681994, 1.7099759466766968, 1.8171205928321397, 1.912931182772389, 2.0, 2.080083823051904, 2.154434690031884]\n"
     ]
    }
   ],
   "source": [
    "import math\n",
    "numbers = range(1, 11)\n",
    "cubes = list(map(lambda x: math.pow(x, 1/3), numbers))\n",
    "print(cubes) # Output: [1.0, 1.2599210498948732, 1.4422495703074083, 1.5874010519681994, 1.7099759466766968, 1.8171205928321397, 1.912931182772389, 2.0, 2.080083823051904, 2.154434690031884]"
   ]
  },
  {
   "cell_type": "code",
   "execution_count": 25,
   "id": "6d0a0d9e-1400-4439-8f28-1ca6ce86d405",
   "metadata": {},
   "outputs": [
    {
     "name": "stdout",
     "output_type": "stream",
     "text": [
      "[1.0, 1.2599210498948732, 1.4422495703074083, 1.5874010519681994, 1.7099759466766968, 1.8171205928321397, 1.912931182772389, 2.0, 2.080083823051904, 2.154434690031884]\n"
     ]
    }
   ],
   "source": [
    "import math\n",
    "numbers = range(1, 11)\n",
    "cubes = [math.pow(x, 1/3) for x in numbers]\n",
    "print(cubes) # Output: [1.0, 1.2599210498948732, "
   ]
  },
  {
   "cell_type": "code",
   "execution_count": 31,
   "id": "df16424b-bb9f-40cb-9bac-78601cd82492",
   "metadata": {},
   "outputs": [
    {
     "data": {
      "text/plain": [
       "[220]"
      ]
     },
     "execution_count": 31,
     "metadata": {},
     "output_type": "execute_result"
    }
   ],
   "source": [
    "a=(220,221)\n",
    "list(filter(lambda x:x%2==0,a))"
   ]
  },
  {
   "cell_type": "code",
   "execution_count": 36,
   "id": "30d37f56-2b20-4b71-8298-a177a453795a",
   "metadata": {},
   "outputs": [
    {
     "data": {
      "text/plain": [
       "[2, 4, 6, 8, 10]"
      ]
     },
     "execution_count": 36,
     "metadata": {},
     "output_type": "execute_result"
    }
   ],
   "source": [
    "l=[1,2,3,4,5,6,7,8,9,10]\n",
    "\n",
    "list(filter(lambda x:x%2==0,l))"
   ]
  },
  {
   "cell_type": "code",
   "execution_count": 56,
   "id": "a63f6bf8-4cda-49be-9016-307e3c0b9c38",
   "metadata": {},
   "outputs": [
    {
     "name": "stdout",
     "output_type": "stream",
     "text": [
      "[-1, -2, -3, -4, -5, 0, 1, 2, 3, 4, 5, 6]\n",
      "[1, 2, 3, 4, 5, 6, 0, -1, -2, -3, -4, -5]\n"
     ]
    }
   ],
   "source": [
    "l1=[1,2,3,4,5,6,-1,-2,-3,-4,-5,0]\n",
    "l2=sorted(l1,key= lambda x:x>0)\n",
    "l3=sorted(l1,key= lambda x:x<0)\n",
    "print(l2)\n",
    "print(l3)"
   ]
  },
  {
   "cell_type": "code",
   "execution_count": 58,
   "id": "0ac68451-2b56-426f-9f8b-68a6d1128da8",
   "metadata": {},
   "outputs": [
    {
     "name": "stdout",
     "output_type": "stream",
     "text": [
      "[1, 2, 3, 4, 5, 6]\n",
      "[-1, -2, -3, -4, -5]\n"
     ]
    }
   ],
   "source": [
    "l1=[1,2,3,4,5,6,-1,-2,-3,-4,-5,0]\n",
    "l2=list(filter(lambda x:x>0,l1))\n",
    "l3=list(filter(lambda x:x<0,l1))\n",
    "print(l2)\n",
    "print(l3)"
   ]
  },
  {
   "cell_type": "code",
   "execution_count": null,
   "id": "a8015c48-d6da-4eff-9d5a-ca8b2426f961",
   "metadata": {},
   "outputs": [],
   "source": []
  },
  {
   "cell_type": "code",
   "execution_count": null,
   "id": "8e7e596c-f217-45c9-80ff-12c13cb5c49d",
   "metadata": {},
   "outputs": [],
   "source": []
  }
 ],
 "metadata": {
  "kernelspec": {
   "display_name": "Python 3 (ipykernel)",
   "language": "python",
   "name": "python3"
  },
  "language_info": {
   "codemirror_mode": {
    "name": "ipython",
    "version": 3
   },
   "file_extension": ".py",
   "mimetype": "text/x-python",
   "name": "python",
   "nbconvert_exporter": "python",
   "pygments_lexer": "ipython3",
   "version": "3.10.8"
  }
 },
 "nbformat": 4,
 "nbformat_minor": 5
}
